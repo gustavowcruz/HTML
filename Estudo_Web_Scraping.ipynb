{
  "nbformat": 4,
  "nbformat_minor": 0,
  "metadata": {
    "colab": {
      "provenance": [],
      "authorship_tag": "ABX9TyO5rnUZo3EMy5lg4mALSrDD",
      "include_colab_link": true
    },
    "kernelspec": {
      "name": "python3",
      "display_name": "Python 3"
    },
    "language_info": {
      "name": "python"
    }
  },
  "cells": [
    {
      "cell_type": "markdown",
      "metadata": {
        "id": "view-in-github",
        "colab_type": "text"
      },
      "source": [
        "<a href=\"https://colab.research.google.com/github/gustavowcruz/HTML/blob/main/Estudo_Web_Scraping.ipynb\" target=\"_parent\"><img src=\"https://colab.research.google.com/assets/colab-badge.svg\" alt=\"Open In Colab\"/></a>"
      ]
    },
    {
      "cell_type": "code",
      "source": [
        "pip install beautifulsoup4"
      ],
      "metadata": {
        "id": "BPp3evhKMsw8",
        "colab": {
          "base_uri": "https://localhost:8080/"
        },
        "outputId": "43f8916b-7e3e-46d0-8f04-939ae6c7a2bd"
      },
      "execution_count": null,
      "outputs": [
        {
          "output_type": "stream",
          "name": "stdout",
          "text": [
            "Requirement already satisfied: beautifulsoup4 in /usr/local/lib/python3.12/dist-packages (4.13.5)\n",
            "Requirement already satisfied: soupsieve>1.2 in /usr/local/lib/python3.12/dist-packages (from beautifulsoup4) (2.7)\n",
            "Requirement already satisfied: typing-extensions>=4.0.0 in /usr/local/lib/python3.12/dist-packages (from beautifulsoup4) (4.15.0)\n"
          ]
        }
      ]
    },
    {
      "cell_type": "code",
      "source": [
        "import requests\n",
        "import urllib\n",
        "from bs4 import BeautifulSoup"
      ],
      "metadata": {
        "id": "bguhQtlESVxm"
      },
      "execution_count": 234,
      "outputs": []
    },
    {
      "cell_type": "code",
      "source": [
        "# def preco(url):\n",
        "url = 'https://store.playstation.com/pt-br/product/EP7579-PPSA17599_00-EXP33000000PS5EU'\n",
        "response = requests.get(url)\n",
        "\n",
        "if response.status_code == 200:\n",
        "  soup = BeautifulSoup(response.text, 'html.parser')\n",
        "  titulo = soup.find('h1', attrs={'data-qa': 'mfe-game-title#name'}).get_text()\n",
        "  preco = soup.find('span',attrs={'data-qa':'mfeCtaMain#offer0#finalPrice'}).get_text()\n",
        "\n",
        "  try:\n",
        "    preco_inicial = soup.find('span', attrs={'data-qa':\"mfeCtaMain#offer0#originalPrice\"}).get_text()\n",
        "  except AttributeError:\n",
        "    preco_inicial = None\n",
        "\n",
        "  print(f\"O título da jogo é {titulo}. \\nO preço do jogo é {preco}.\")\n",
        "\n",
        "  if preco_inicial:\n",
        "    print(f'Houve um desconto. Antes o preço era de {preco_inicial}')\n",
        "else:\n",
        "  print(\"Falha ao acessar a página.\")"
      ],
      "metadata": {
        "colab": {
          "base_uri": "https://localhost:8080/"
        },
        "id": "uH7nAC1mYkE9",
        "outputId": "03acfbfd-0e5e-4016-e6b6-49147238adda"
      },
      "execution_count": 233,
      "outputs": [
        {
          "output_type": "stream",
          "name": "stdout",
          "text": [
            "O título da jogo é Clair Obscur: Expedition 33. \n",
            "O preço do jogo é R$249,50.\n"
          ]
        }
      ]
    },
    {
      "cell_type": "code",
      "source": [
        "def scrapePsn():\n",
        "\n",
        "  urls = ['https://store.playstation.com/pt-br/product/EP7579-PPSA17599_00-EXP33000000PS5EU',\n",
        "          'https://store.playstation.com/pt-br/product/UP0177-PPSA20800_00-METAPHORNA000001',\n",
        "          'https://www.playstation.com/pt-br/games/elden-ring/elden-ring-shadow-of-the-erdtree/',\n",
        "          'https://www.playstation.com/pt-br/games/resident-evil-4-remake/']\n",
        "\n",
        "  headers = {'User-Agent':'Mozilla/5.0'}\n",
        "\n",
        "  psn = []\n",
        "\n",
        "  for url in urls:\n",
        "    response = requests.get(url, headers=headers)\n",
        "    soup = BeautifulSoup(response.text, 'html.parser')\n",
        "\n",
        "    titulo_el = soup.select_one('h1[data-qa=\"mfe-game-title#name\"]') or soup.select_one('.game-title')\n",
        "    titulo = titulo_el.get_text().strip() if titulo_el else \"Titulo não encontrado\"\n",
        "\n",
        "    preco_final_el = soup.find('span',attrs={'data-qa':'mfeCtaMain#offer0#finalPrice'}) or soup.select_one('span[data-qa=\"mfeCtaMain#offer0#finalPrice\"]')\n",
        "    preco_final = preco_final_el.get_text().strip() if preco_final_el else \"Preço não encontrado\"\n",
        "\n",
        "    preco_inicial_element = soup.select_one('span[data-qa=\"mfeCtaMain#offer0#originalPrice\"]')\n",
        "    preco_inicial = preco_inicial_element.get_text().strip() if preco_inicial_element else preco_final\n",
        "\n",
        "    psn.append({\n",
        "        'titulo' : titulo,\n",
        "        'url' : url,\n",
        "        'preco_final' : preco_final,\n",
        "        'preco_inicial' : preco_inicial\n",
        "    })\n",
        "\n",
        "  return psn\n",
        "\n",
        "\n",
        "psn = scrapePsn()\n",
        "for jogo in psn:\n",
        "  print(f\"\"\"\n",
        "        {jogo['titulo']}\n",
        "        Preço Final: {jogo['preco_final']}\n",
        "        Preço Inicial: {jogo['preco_inicial']}\n",
        "        \"\"\")"
      ],
      "metadata": {
        "colab": {
          "base_uri": "https://localhost:8080/"
        },
        "id": "rRm1SVAcmm4D",
        "outputId": "f518717e-f903-4287-cc46-56c238612aeb"
      },
      "execution_count": 250,
      "outputs": [
        {
          "output_type": "stream",
          "name": "stdout",
          "text": [
            "\n",
            "        Clair Obscur: Expedition 33\n",
            "        Preço Final: R$249,50\n",
            "        Preço Inicial: R$249,50\n",
            "        \n",
            "\n",
            "        Metaphor: ReFantazio\n",
            "        Preço Final: Experimentação do jogo\n",
            "        Preço Inicial: Experimentação do jogo\n",
            "        \n",
            "\n",
            "        Elden Ring Shadow of the Erdtree\n",
            "        Preço Final: R$214,90\n",
            "        Preço Inicial: R$214,90\n",
            "        \n",
            "\n",
            "        Resident Evil 4 Remake\n",
            "        Preço Final: R$199,50\n",
            "        Preço Inicial: R$199,50\n",
            "        \n"
          ]
        }
      ]
    },
    {
      "cell_type": "code",
      "source": [
        "# ajustes de bucsa\n",
        "\n",
        "url = ''\n",
        "response = requests.get(url)\n",
        "\n",
        "if response.status_code == 200:\n",
        "    soup = BeautifulSoup(response.text, 'html.parser')\n",
        "    titulo = soup.find('h1', attrs={'class', 'game-title'}).get_text()\n",
        "    preco = soup.find('span',attrs={'data-qa':'mfeCtaMain#offer0#finalPrice'}).get_text()\n",
        "\n",
        "    try:\n",
        "      preco_inicial = soup.find('span', attrs={'data-qa':\"mfeCtaMain#offer0#originalPrice\"}).get_text()\n",
        "    except AttributeError:\n",
        "      preco_inicial = None\n",
        "\n",
        "    print(f\"O título da jogo é {titulo}. \\nO preço do jogo é {preco}.\")\n",
        "\n",
        "    if preco_inicial:\n",
        "      print(f'Houve um desconto. Antes o preço era de {preco_inicial}')\n",
        "else:\n",
        "    print(\"Falha ao acessar a página.\")"
      ],
      "metadata": {
        "id": "aVUmBR6aVTv4",
        "colab": {
          "base_uri": "https://localhost:8080/"
        },
        "outputId": "f3095ee3-a97d-4558-ce4b-527aeb8f9189"
      },
      "execution_count": null,
      "outputs": [
        {
          "output_type": "stream",
          "name": "stdout",
          "text": [
            "O título da jogo é Resident Evil 4 Remake. \n",
            "O preço do jogo é R$99,75.\n",
            "Houve um desconto. Antes o preço era de R$199,50\n"
          ]
        }
      ]
    },
    {
      "cell_type": "code",
      "source": [
        "# ajustes de bucsa\n",
        "\n",
        "url = 'https://www.playstation.com/pt-br/games/elden-ring/elden-ring-shadow-of-the-erdtree/'\n",
        "response = requests.get(url)\n",
        "\n",
        "if response.status_code == 200:\n",
        "    soup = BeautifulSoup(response.text, 'html.parser')\n",
        "    titulo = soup.find('h1', attrs={'class', 'game-title'}).get_text()\n",
        "    preco = soup.find('span',attrs={'data-qa':'mfeCtaMain#offer0#finalPrice'}).get_text()\n",
        "\n",
        "    try:\n",
        "      preco_inicial = soup.find('span', attrs={'data-qa':\"mfeCtaMain#offer0#originalPrice\"}).get_text()\n",
        "    except AttributeError:\n",
        "      preco_inicial = None\n",
        "\n",
        "    print(f\"O título da jogo é {titulo}. \\nO preço do jogo é {preco}.\")\n",
        "\n",
        "    if preco_inicial:\n",
        "      print(f'Houve um desconto. Antes o preço era de {preco_inicial}')\n",
        "else:\n",
        "    print(\"Falha ao acessar a página.\")"
      ],
      "metadata": {
        "id": "s6WYIVVKW77z",
        "outputId": "26c2ff48-7444-4514-8fd3-137c12becc43",
        "colab": {
          "base_uri": "https://localhost:8080/"
        }
      },
      "execution_count": null,
      "outputs": [
        {
          "output_type": "stream",
          "name": "stdout",
          "text": [
            "O título da jogo é Elden Ring Shadow of the Erdtree. \n",
            "O preço do jogo é R$214,90.\n"
          ]
        }
      ]
    },
    {
      "cell_type": "code",
      "source": [
        "url = 'https://www.playstation.com/pt-br/games/persona-5/'\n",
        "response = requests.get(url)\n",
        "\n",
        "if response.status_code == 200:\n",
        "    soup = BeautifulSoup(response.text, 'html.parser')\n",
        "    titulo = soup.find('h1', attrs={'data-qa': 'mfe-game-title#name'}).get_text()\n",
        "    preco = soup.find('span',attrs={'data-qa':'mfeCtaMain#offer0#finalPrice'}).get_text()\n",
        "\n",
        "    try:\n",
        "      preco_inicial = soup.find('span', attrs={'data-qa':\"mfeCtaMain#offer0#originalPrice\"}).get_text()\n",
        "    except AttributeError:\n",
        "      preco_inicial = None\n",
        "\n",
        "    print(f\"O título da jogo é {titulo}. \\nO preço do jogo é {preco}.\")\n",
        "\n",
        "    if preco_inicial:\n",
        "      print(f'Houve um desconto. Antes o preço era de {preco_inicial}')\n",
        "else:\n",
        "    print(\"Falha ao acessar a página.\")"
      ],
      "metadata": {
        "id": "vW5AzaFSabc2",
        "outputId": "8f36ef5f-6071-4971-a412-5fa839aa4631",
        "colab": {
          "base_uri": "https://localhost:8080/"
        }
      },
      "execution_count": null,
      "outputs": [
        {
          "output_type": "stream",
          "name": "stdout",
          "text": [
            "O título da jogo é Persona 5. \n",
            "O preço do jogo é R$49,75.\n",
            "Houve um desconto. Antes o preço era de R$99,50\n"
          ]
        }
      ]
    },
    {
      "cell_type": "code",
      "source": [
        "import requests\n",
        "from bs4 import BeautifulSoup\n",
        "\n",
        "def scrape_imdb_movies():\n",
        "    url = 'https://www.imdb.com/chart/top/'\n",
        "    headers = {'User-Agent': 'Mozilla/5.0'}\n",
        "\n",
        "    response = requests.get(url, headers=headers)\n",
        "    soup = BeautifulSoup(response.text, 'html.parser')\n",
        "\n",
        "    movies = []\n",
        "    for movie_row in soup.select('.ipc-metadata-list-summary-item'):\n",
        "        title = movie_row.select_one('.ipc-title__text')\n",
        "        year = movie_row.select_one('.cli-title-metadata-item')\n",
        "        rating = movie_row.select_one('.ipc-rating-star')\n",
        "\n",
        "        if title and year and rating:\n",
        "            movies.append({\n",
        "                'title': title.get_text().split('. ')[1] if '.' in title.get_text() else title.get_text(),\n",
        "                'year': year.get_text(),\n",
        "                'rating': rating.get_text().split()[0]\n",
        "            })\n",
        "\n",
        "    return movies[:10]  # Retorna os 10 primeiros\n",
        "\n",
        "# Uso\n",
        "movies = scrape_imdb_movies()\n",
        "for movie in movies:\n",
        "    print(f\"{movie['title']} ({movie['year']}) - Rating: {movie['rating']}\")"
      ],
      "metadata": {
        "id": "NR702eP7mmYm",
        "outputId": "876be8e4-ecb2-44e0-b75e-6deb208b2b49",
        "colab": {
          "base_uri": "https://localhost:8080/"
        }
      },
      "execution_count": null,
      "outputs": [
        {
          "output_type": "stream",
          "name": "stdout",
          "text": [
            "The Shawshank Redemption (1994) - Rating: 9.3\n",
            "The Godfather (1972) - Rating: 9.2\n",
            "The Dark Knight (2008) - Rating: 9.1\n",
            "The Godfather Part II (1974) - Rating: 9.0\n",
            "12 Angry Men (1957) - Rating: 9.0\n",
            "The Lord of the Rings: The Return of the King (2003) - Rating: 9.0\n",
            "Schindler's List (1993) - Rating: 9.0\n",
            "Pulp Fiction (1994) - Rating: 8.8\n",
            "The Lord of the Rings: The Fellowship of the Ring (2001) - Rating: 8.9\n",
            "The Good, the Bad and the Ugly (1966) - Rating: 8.8\n"
          ]
        }
      ]
    },
    {
      "cell_type": "code",
      "source": [
        "def scrape_metacritic():\n",
        "    url = 'https://metacritic.com/browse/game/all/all/current-year'\n",
        "    headers = {'User-Agent': 'Chrome'}\n",
        "\n",
        "    response = requests.get(url, headers=headers)\n",
        "    soup = BeautifulSoup(response.text, 'html.parser')\n",
        "\n",
        "    games = []\n",
        "\n",
        "    for game_row in soup.select('.c-finderProductCard'):\n",
        "        titulo = game_row.select_one('.c-finderProductCard_titleHeading')\n",
        "        rating = game_row.find('span', attrs={\"data-v-e408cafe\":True})\n",
        "\n",
        "        games.append({\n",
        "            'url' : url,\n",
        "            'titulo': titulo.get_text().strip().split('. ')[1] if '.' in titulo.get_text() else titulo.get_text().strip(),\n",
        "            'rating': rating.get_text().strip()\n",
        "        })\n",
        "\n",
        "    return games[:10]\n",
        "print('Os 10 melhores jogos de 2025 de acordo com o Metacritic: ')\n",
        "games = scrape_metacritic()\n",
        "for game in games:\n",
        "    print(f\"\"\"\n",
        "  {game['titulo']}\n",
        "  Metascore: {game['rating']}\n",
        "        \"\"\")"
      ],
      "metadata": {
        "colab": {
          "base_uri": "https://localhost:8080/"
        },
        "id": "Ntq0UHrWuE-S",
        "outputId": "29e1bc52-9b5d-4464-871d-b8cf90df3826"
      },
      "execution_count": 249,
      "outputs": [
        {
          "output_type": "stream",
          "name": "stdout",
          "text": [
            "Os 10 melhores jogos de 2025 de acordo com o Metacritic: \n",
            "\n",
            "  The Legend of Zelda: Tears of the Kingdom - Nintendo Switch 2 Edition\n",
            "  Metascore: 96\n",
            "        \n",
            "\n",
            "  The Legend of Zelda: Breath of the Wild - Nintendo Switch 2 Edition\n",
            "  Metascore: 95\n",
            "        \n",
            "\n",
            "  Clair Obscur: Expedition 33\n",
            "  Metascore: 93\n",
            "        \n",
            "\n",
            "  Blue Prince\n",
            "  Metascore: 92\n",
            "        \n",
            "\n",
            "  Split Fiction\n",
            "  Metascore: 91\n",
            "        \n",
            "\n",
            "  Donkey Kong Bananza\n",
            "  Metascore: 91\n",
            "        \n",
            "\n",
            "  despelote\n",
            "  Metascore: 89\n",
            "        \n",
            "\n",
            "  The Talos Principle: Reawakened\n",
            "  Metascore: 89\n",
            "        \n",
            "\n",
            "  Death Stranding 2: On The Beach\n",
            "  Metascore: 89\n",
            "        \n",
            "\n",
            "  Abiotic Factor\n",
            "  Metascore: 88\n",
            "        \n"
          ]
        }
      ]
    },
    {
      "cell_type": "code",
      "source": [
        "from bs4 import BeautifulSoup\n",
        "import requests\n",
        "\n",
        "def scrape_howlongtobeat():\n",
        "\n",
        "  urls = ['https://howlongtobeat.com/game/21262',\n",
        "          'https://howlongtobeat.com/game/129956',\n",
        "          'https://howlongtobeat.com/game/57479']\n",
        "\n",
        "  headers = {\"User-Agent\":\"Mozilla/5.0 (Windows NT 10.0; Win64; x64)\"}\n",
        "\n",
        "  jogos = []\n",
        "\n",
        "  for url in urls:\n",
        "    response = requests.get(url, headers=headers)\n",
        "    soup = BeautifulSoup(response.text, 'html.parser')\n",
        "\n",
        "    titulo = soup.select_one('.GameHeader_profile_header__q_PID').get_text().strip()\n",
        "\n",
        "    duracoes = soup.select_one('.GameStats_game_times__KHrRY')\n",
        "    tempo =  duracoes.select('.GameStats_short__tSJ6I')\n",
        "\n",
        "    main_story = tempo[0].get_text().strip().replace(\"Main Story\", \"\").replace(\"Hours\",\"Horas\")\n",
        "    main_extra = tempo[1].get_text().strip().replace(\"Main + Sides\", \"\").replace(\"Hours\", \"Horas\")\n",
        "    completionist = tempo[2].get_text().strip().replace(\"Completionist\", \"\").replace(\"Hours\", \"Horas\")\n",
        "\n",
        "    jogos.append({\n",
        "        'titulo' : titulo,\n",
        "        'url' : url,\n",
        "        'main_story' : main_story.strip(),\n",
        "        'main_extra' : main_extra.strip(),\n",
        "        'completionist' : completionist.strip()\n",
        "        })\n",
        "\n",
        "  return jogos\n",
        "\n",
        "jogos = scrape_howlongtobeat()\n",
        "for jogo in jogos:\n",
        "  print(f\"\"\"\n",
        "        {jogo['titulo']}\n",
        "        História Principal: {jogo['main_story']}\n",
        "        H.P. + Extras: {jogo['main_extra']}\n",
        "        Complecionista: {jogo['completionist']}\n",
        "        \"\"\")"
      ],
      "metadata": {
        "colab": {
          "base_uri": "https://localhost:8080/"
        },
        "id": "s0ekYkBnCUqh",
        "outputId": "653ca61b-1a29-42b1-cf8f-6ebe4e129b25"
      },
      "execution_count": 194,
      "outputs": [
        {
          "output_type": "stream",
          "name": "stdout",
          "text": [
            "\n",
            "        Bloodborne\n",
            "        História Principal: 32½ Horas\n",
            "        H.P. + Extras: 43½ Horas\n",
            "        Complecionista: 75½ Horas\n",
            "        \n",
            "\n",
            "        Metaphor: ReFantazio\n",
            "        História Principal: 65½ Horas\n",
            "        H.P. + Extras: 87½ Horas\n",
            "        Complecionista: 107 Horas\n",
            "        \n",
            "\n",
            "        Resident Evil 2 (2019)\n",
            "        História Principal: 9 Horas\n",
            "        H.P. + Extras: 15½ Horas\n",
            "        Complecionista: 36½ Horas\n",
            "        \n"
          ]
        }
      ]
    }
  ]
}